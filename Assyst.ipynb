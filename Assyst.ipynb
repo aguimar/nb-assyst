{
  "nbformat": 4,
  "nbformat_minor": 0,
  "metadata": {
    "colab": {
      "name": "Assyst.ipynb",
      "provenance": [],
      "collapsed_sections": []
    },
    "kernelspec": {
      "name": "python3",
      "display_name": "Python 3"
    }
  },
  "cells": [
    {
      "cell_type": "code",
      "metadata": {
        "id": "UhUDPvY6xpy-",
        "colab_type": "code",
        "colab": {}
      },
      "source": [
        "import pandas as pd\n",
        "import dateutil"
      ],
      "execution_count": null,
      "outputs": []
    },
    {
      "cell_type": "code",
      "metadata": {
        "id": "6ZWPnN1ixxKM",
        "colab_type": "code",
        "colab": {
          "resources": {
            "http://localhost:8080/nbextensions/google.colab/files.js": {
              "data": "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",
              "ok": true,
              "headers": [
                [
                  "content-type",
                  "application/javascript"
                ]
              ],
              "status": 200,
              "status_text": ""
            }
          },
          "base_uri": "https://localhost:8080/",
          "height": 195
        },
        "outputId": "41f2a48b-23d5-4c28-fc8f-886876e035bf"
      },
      "source": [
        "from google.colab import files\n",
        "\n",
        "uploaded = files.upload()\n",
        "\n",
        "lista_dts = []\n",
        "\n",
        "for fn in uploaded.keys():\n",
        "  filename = fn\n",
        "  input = pd.read_csv(fn, index_col=\"Referência\")\n",
        "  lista_dts.append(input)\n",
        "  print('User uploaded file \"{name}\" with length {length} bytes'.format(\n",
        "      name=fn, length=len(uploaded[fn])))"
      ],
      "execution_count": null,
      "outputs": [
        {
          "output_type": "display_data",
          "data": {
            "text/html": [
              "\n",
              "     <input type=\"file\" id=\"files-544f7d94-04ee-4cb1-a6f1-56534d0a8c0d\" name=\"files[]\" multiple disabled\n",
              "        style=\"border:none\" />\n",
              "     <output id=\"result-544f7d94-04ee-4cb1-a6f1-56534d0a8c0d\">\n",
              "      Upload widget is only available when the cell has been executed in the\n",
              "      current browser session. Please rerun this cell to enable.\n",
              "      </output>\n",
              "      <script src=\"/nbextensions/google.colab/files.js\"></script> "
            ],
            "text/plain": [
              "<IPython.core.display.HTML object>"
            ]
          },
          "metadata": {
            "tags": []
          }
        },
        {
          "output_type": "stream",
          "text": [
            "Saving fechados_maio_2020.csv to fechados_maio_2020.csv\n",
            "Saving fechados_abril_2020.csv to fechados_abril_2020.csv\n",
            "Saving fechados_junho_2020.csv to fechados_junho_2020.csv\n",
            "User uploaded file \"fechados_maio_2020.csv\" with length 27412 bytes\n",
            "User uploaded file \"fechados_abril_2020.csv\" with length 31211 bytes\n",
            "User uploaded file \"fechados_junho_2020.csv\" with length 38352 bytes\n"
          ],
          "name": "stdout"
        }
      ]
    },
    {
      "cell_type": "code",
      "metadata": {
        "id": "W8ayOHE0okdt",
        "colab_type": "code",
        "colab": {}
      },
      "source": [
        ""
      ],
      "execution_count": null,
      "outputs": []
    },
    {
      "cell_type": "code",
      "metadata": {
        "id": "Ipjna_yvxxVr",
        "colab_type": "code",
        "colab": {}
      },
      "source": [
        "assysts = pd.concat(lista_dts, axis=0, ignore_index=True)\n"
      ],
      "execution_count": null,
      "outputs": []
    },
    {
      "cell_type": "code",
      "metadata": {
        "id": "oC550SJZxxnx",
        "colab_type": "code",
        "colab": {
          "base_uri": "https://localhost:8080/",
          "height": 723
        },
        "outputId": "6dcfd0d7-aa8a-462a-f5a4-7ff9a89c4f68"
      },
      "source": [
        "assysts\n"
      ],
      "execution_count": null,
      "outputs": [
        {
          "output_type": "execute_result",
          "data": {
            "text/html": [
              "<div>\n",
              "<style scoped>\n",
              "    .dataframe tbody tr th:only-of-type {\n",
              "        vertical-align: middle;\n",
              "    }\n",
              "\n",
              "    .dataframe tbody tr th {\n",
              "        vertical-align: top;\n",
              "    }\n",
              "\n",
              "    .dataframe thead th {\n",
              "        text-align: right;\n",
              "    }\n",
              "</style>\n",
              "<table border=\"1\" class=\"dataframe\">\n",
              "  <thead>\n",
              "    <tr style=\"text-align: right;\">\n",
              "      <th></th>\n",
              "      <th>Estado (texto)</th>\n",
              "      <th>Sprint</th>\n",
              "      <th>Sprint Atual</th>\n",
              "      <th>Tipo de Planejamento</th>\n",
              "      <th>Nome de Prioridade</th>\n",
              "      <th>Estado</th>\n",
              "      <th>Nome do Item</th>\n",
              "      <th>Nome de categoria</th>\n",
              "      <th>Nome do Usuário Atribuído</th>\n",
              "      <th>Nome afetado</th>\n",
              "      <th>Data da última ação</th>\n",
              "      <th>Última ação realizada</th>\n",
              "      <th>Data Início Execução</th>\n",
              "      <th>Data de Resolução</th>\n",
              "      <th>Data de atribuição</th>\n",
              "      <th>Data de registro</th>\n",
              "    </tr>\n",
              "  </thead>\n",
              "  <tbody>\n",
              "    <tr>\n",
              "      <th>0</th>\n",
              "      <td>FECHADO</td>\n",
              "      <td>NaN</td>\n",
              "      <td>NaN</td>\n",
              "      <td>FURA_FILA</td>\n",
              "      <td>P3 - Media</td>\n",
              "      <td>FECHADO</td>\n",
              "      <td>SERVIÇO DE SENHAS/AMBIENTE SEGURO</td>\n",
              "      <td>ERRO/FALHA</td>\n",
              "      <td>JOSE ROBERTO PEREIRA DA SILVA</td>\n",
              "      <td>DEBORA PICCININI MARANHAO</td>\n",
              "      <td>18/06/20 20:04</td>\n",
              "      <td>CLOSURE</td>\n",
              "      <td>NaN</td>\n",
              "      <td>01/06/20 10:49</td>\n",
              "      <td>26/05/20 15:06</td>\n",
              "      <td>06/03/20</td>\n",
              "    </tr>\n",
              "    <tr>\n",
              "      <th>1</th>\n",
              "      <td>FECHADO</td>\n",
              "      <td>NaN</td>\n",
              "      <td>NaN</td>\n",
              "      <td>NaN</td>\n",
              "      <td>P3 - Media</td>\n",
              "      <td>FECHADO</td>\n",
              "      <td>SOLARE</td>\n",
              "      <td>ERRO/FALHA</td>\n",
              "      <td>HELDER DA SILVA ANDRADE</td>\n",
              "      <td>HELDER DA SILVA ANDRADE</td>\n",
              "      <td>20/05/20 20:11</td>\n",
              "      <td>CLOSURE</td>\n",
              "      <td>NaN</td>\n",
              "      <td>05/05/20 11:16</td>\n",
              "      <td>04/05/20 13:56</td>\n",
              "      <td>11/03/20</td>\n",
              "    </tr>\n",
              "    <tr>\n",
              "      <th>2</th>\n",
              "      <td>FECHADO</td>\n",
              "      <td>NaN</td>\n",
              "      <td>SP2020_0502</td>\n",
              "      <td>FURA_FILA</td>\n",
              "      <td>P3 - Media</td>\n",
              "      <td>FECHADO</td>\n",
              "      <td>SISCOEX</td>\n",
              "      <td>ERRO/FALHA</td>\n",
              "      <td>FELIPE BEDE SILVA PAIVA</td>\n",
              "      <td>AURELIO FERREIRA PINHEIRO</td>\n",
              "      <td>18/06/20 18:48</td>\n",
              "      <td>CLOSURE</td>\n",
              "      <td>NaN</td>\n",
              "      <td>18/05/20 11:58</td>\n",
              "      <td>16/04/20 14:25</td>\n",
              "      <td>16/04/20</td>\n",
              "    </tr>\n",
              "    <tr>\n",
              "      <th>3</th>\n",
              "      <td>FECHADO</td>\n",
              "      <td>NaN</td>\n",
              "      <td>NaN</td>\n",
              "      <td>NaN</td>\n",
              "      <td>P1 - Muito Alta (Critico)</td>\n",
              "      <td>FECHADO</td>\n",
              "      <td>CADASTRO - AIX</td>\n",
              "      <td>INDISPONIBILIDADE</td>\n",
              "      <td>HELENA CELIA BEZERRA PARA ULISSES</td>\n",
              "      <td>ANA PAULA CRUZ LIMA</td>\n",
              "      <td>18/06/20 17:49</td>\n",
              "      <td>CLOSURE</td>\n",
              "      <td>NaN</td>\n",
              "      <td>11/05/20 07:59</td>\n",
              "      <td>11/05/20 07:48</td>\n",
              "      <td>24/04/20</td>\n",
              "    </tr>\n",
              "    <tr>\n",
              "      <th>4</th>\n",
              "      <td>FECHADO</td>\n",
              "      <td>NaN</td>\n",
              "      <td>NaN</td>\n",
              "      <td>NaN</td>\n",
              "      <td>P2 - Alta</td>\n",
              "      <td>FECHADO</td>\n",
              "      <td>ITCD</td>\n",
              "      <td>ERRO/FALHA</td>\n",
              "      <td>LILIANE MACEDO AGUIAR FREIRE</td>\n",
              "      <td>LUIZ CRISPIM ALBUQUERQUE JUNIOR</td>\n",
              "      <td>20/05/20 20:23</td>\n",
              "      <td>CLOSURE</td>\n",
              "      <td>NaN</td>\n",
              "      <td>06/05/20 11:26</td>\n",
              "      <td>06/05/20 11:19</td>\n",
              "      <td>06/05/20</td>\n",
              "    </tr>\n",
              "    <tr>\n",
              "      <th>...</th>\n",
              "      <td>...</td>\n",
              "      <td>...</td>\n",
              "      <td>...</td>\n",
              "      <td>...</td>\n",
              "      <td>...</td>\n",
              "      <td>...</td>\n",
              "      <td>...</td>\n",
              "      <td>...</td>\n",
              "      <td>...</td>\n",
              "      <td>...</td>\n",
              "      <td>...</td>\n",
              "      <td>...</td>\n",
              "      <td>...</td>\n",
              "      <td>...</td>\n",
              "      <td>...</td>\n",
              "      <td>...</td>\n",
              "    </tr>\n",
              "    <tr>\n",
              "      <th>532</th>\n",
              "      <td>FECHADO</td>\n",
              "      <td>NaN</td>\n",
              "      <td>SP2020_0602</td>\n",
              "      <td>NaN</td>\n",
              "      <td>P4 - Baixa</td>\n",
              "      <td>FECHADO</td>\n",
              "      <td>CADASTRO - AIX</td>\n",
              "      <td>OUTRAS SOLICITAÇÕES</td>\n",
              "      <td>HELENA CELIA BEZERRA PARA ULISSES</td>\n",
              "      <td>MARIA ELIZANDRA CAMPELO MAIA NOBRE</td>\n",
              "      <td>09/07/20 15:46</td>\n",
              "      <td>CLOSURE</td>\n",
              "      <td>NaN</td>\n",
              "      <td>30/06/20 10:10</td>\n",
              "      <td>30/06/20 09:52</td>\n",
              "      <td>29/06/20</td>\n",
              "    </tr>\n",
              "    <tr>\n",
              "      <th>533</th>\n",
              "      <td>FECHADO</td>\n",
              "      <td>NaN</td>\n",
              "      <td>SP2020_0602</td>\n",
              "      <td>NaN</td>\n",
              "      <td>P4 - Baixa</td>\n",
              "      <td>FECHADO</td>\n",
              "      <td>CADASTRO - AIX</td>\n",
              "      <td>OUTRAS SOLICITAÇÕES</td>\n",
              "      <td>HELENA CELIA BEZERRA PARA ULISSES</td>\n",
              "      <td>TERESA LUCIA DE SOUSA CASTRO</td>\n",
              "      <td>09/07/20 15:43</td>\n",
              "      <td>CLOSURE</td>\n",
              "      <td>NaN</td>\n",
              "      <td>29/06/20 17:55</td>\n",
              "      <td>29/06/20 17:43</td>\n",
              "      <td>29/06/20</td>\n",
              "    </tr>\n",
              "    <tr>\n",
              "      <th>534</th>\n",
              "      <td>FECHADO</td>\n",
              "      <td>NaN</td>\n",
              "      <td>NaN</td>\n",
              "      <td>NaN</td>\n",
              "      <td>P4 - Baixa</td>\n",
              "      <td>FECHADO</td>\n",
              "      <td>CADASTRO - AIX</td>\n",
              "      <td>OUTRAS SOLICITAÇÕES</td>\n",
              "      <td>HELENA CELIA BEZERRA PARA ULISSES</td>\n",
              "      <td>FRANCISCA MARIA NOBREGA PINHEIRO</td>\n",
              "      <td>09/07/20 15:46</td>\n",
              "      <td>CLOSURE</td>\n",
              "      <td>NaN</td>\n",
              "      <td>30/06/20 10:13</td>\n",
              "      <td>30/06/20 09:55</td>\n",
              "      <td>29/06/20</td>\n",
              "    </tr>\n",
              "    <tr>\n",
              "      <th>535</th>\n",
              "      <td>FECHADO</td>\n",
              "      <td>NaN</td>\n",
              "      <td>SP2020_0602</td>\n",
              "      <td>NaN</td>\n",
              "      <td>P4 - Baixa</td>\n",
              "      <td>FECHADO</td>\n",
              "      <td>ITCD</td>\n",
              "      <td>OUTRAS SOLICITAÇÕES</td>\n",
              "      <td>NaN</td>\n",
              "      <td>LILIANE MACEDO AGUIAR FREIRE</td>\n",
              "      <td>09/07/20 15:49</td>\n",
              "      <td>CLOSURE</td>\n",
              "      <td>NaN</td>\n",
              "      <td>30/06/20 14:57</td>\n",
              "      <td>30/06/20 14:55</td>\n",
              "      <td>30/06/20</td>\n",
              "    </tr>\n",
              "    <tr>\n",
              "      <th>536</th>\n",
              "      <td>FECHADO</td>\n",
              "      <td>NaN</td>\n",
              "      <td>NaN</td>\n",
              "      <td>NaN</td>\n",
              "      <td>P4 - Baixa</td>\n",
              "      <td>FECHADO</td>\n",
              "      <td>USUÁRIO DE SISTEMA</td>\n",
              "      <td>SAPAT</td>\n",
              "      <td>CARLOS HENRIQUE BARROS FREITAS</td>\n",
              "      <td>ANDREA MACHADO NAPOLEAO</td>\n",
              "      <td>09/07/20 15:50</td>\n",
              "      <td>CLOSURE</td>\n",
              "      <td>NaN</td>\n",
              "      <td>30/06/20 16:16</td>\n",
              "      <td>30/06/20 15:41</td>\n",
              "      <td>30/06/20</td>\n",
              "    </tr>\n",
              "  </tbody>\n",
              "</table>\n",
              "<p>537 rows × 16 columns</p>\n",
              "</div>"
            ],
            "text/plain": [
              "    Estado (texto) Sprint  ... Data de atribuição Data de registro\n",
              "0          FECHADO    NaN  ...     26/05/20 15:06         06/03/20\n",
              "1          FECHADO    NaN  ...     04/05/20 13:56         11/03/20\n",
              "2          FECHADO    NaN  ...     16/04/20 14:25         16/04/20\n",
              "3          FECHADO    NaN  ...     11/05/20 07:48         24/04/20\n",
              "4          FECHADO    NaN  ...     06/05/20 11:19         06/05/20\n",
              "..             ...    ...  ...                ...              ...\n",
              "532        FECHADO    NaN  ...     30/06/20 09:52         29/06/20\n",
              "533        FECHADO    NaN  ...     29/06/20 17:43         29/06/20\n",
              "534        FECHADO    NaN  ...     30/06/20 09:55         29/06/20\n",
              "535        FECHADO    NaN  ...     30/06/20 14:55         30/06/20\n",
              "536        FECHADO    NaN  ...     30/06/20 15:41         30/06/20\n",
              "\n",
              "[537 rows x 16 columns]"
            ]
          },
          "metadata": {
            "tags": []
          },
          "execution_count": 34
        }
      ]
    },
    {
      "cell_type": "code",
      "metadata": {
        "id": "zqLq6Uh5slC8",
        "colab_type": "code",
        "colab": {}
      },
      "source": [
        ""
      ],
      "execution_count": null,
      "outputs": []
    },
    {
      "cell_type": "code",
      "metadata": {
        "id": "d0RaYX955z58",
        "colab_type": "code",
        "colab": {
          "base_uri": "https://localhost:8080/",
          "height": 247
        },
        "outputId": "8441bad5-66e1-490e-e37f-2d56962deb16"
      },
      "source": [
        "assysts.groupby(['Nome do Item', 'Nome de categoria'])['Nome do Item'].count()\n"
      ],
      "execution_count": null,
      "outputs": [
        {
          "output_type": "execute_result",
          "data": {
            "text/plain": [
              "Nome do Item                    Nome de categoria                         \n",
              "ADMINISTRAÇÃO E BANCO DE DADOS  USUÁRIO/ROLE/PERMISSÕES(PESSOAL/APLICAÇÃO)     1\n",
              "ASCENSÃO FUNCIONAL              OUTRAS SOLICITAÇÕES                            2\n",
              "BI - INTELIGÊNCIA DE NEGÓCIO    RELATÓRIOS                                    24\n",
              "CADASTRO - AIX                  ERRO/FALHA                                    11\n",
              "                                INDISPONIBILIDADE                              1\n",
              "                                                                              ..\n",
              "SUA NOTA TEM VALOR              MELHORIA                                       7\n",
              "SUA NOTA VALE DINHEIRO          OUTRAS SOLICITAÇÕES                            2\n",
              "USUÁRIO DE REDE                 ACESSO REMOTO VPN                              1\n",
              "                                CRIAR INTEGRAÇÃO DE SISTEMAS                   1\n",
              "USUÁRIO DE SISTEMA              SAPAT                                          3\n",
              "Name: Nome do Item, Length: 88, dtype: int64"
            ]
          },
          "metadata": {
            "tags": []
          },
          "execution_count": 35
        }
      ]
    },
    {
      "cell_type": "code",
      "metadata": {
        "id": "a3PhQQmj7ETN",
        "colab_type": "code",
        "colab": {
          "base_uri": "https://localhost:8080/",
          "height": 34
        },
        "outputId": "af32d976-f116-4a99-9dec-cde120740b2a"
      },
      "source": [
        "type(assysts)"
      ],
      "execution_count": null,
      "outputs": [
        {
          "output_type": "execute_result",
          "data": {
            "text/plain": [
              "pandas.core.frame.DataFrame"
            ]
          },
          "metadata": {
            "tags": []
          },
          "execution_count": 36
        }
      ]
    },
    {
      "cell_type": "code",
      "metadata": {
        "id": "3FmbFl1dvB8k",
        "colab_type": "code",
        "colab": {}
      },
      "source": [
        "colunas = ['Nome do Item', 'Nome de categoria', 'Data de Resolução', 'Data de registro', 'Data de atribuição']\n",
        "assysts_calculo = assysts.loc[: , colunas]"
      ],
      "execution_count": null,
      "outputs": []
    },
    {
      "cell_type": "code",
      "metadata": {
        "id": "NOLBij86xwCh",
        "colab_type": "code",
        "colab": {
          "base_uri": "https://localhost:8080/",
          "height": 406
        },
        "outputId": "9b06aea9-151c-49c8-c63d-a0f602eb23bf"
      },
      "source": [
        "assysts_calculo"
      ],
      "execution_count": null,
      "outputs": [
        {
          "output_type": "execute_result",
          "data": {
            "text/html": [
              "<div>\n",
              "<style scoped>\n",
              "    .dataframe tbody tr th:only-of-type {\n",
              "        vertical-align: middle;\n",
              "    }\n",
              "\n",
              "    .dataframe tbody tr th {\n",
              "        vertical-align: top;\n",
              "    }\n",
              "\n",
              "    .dataframe thead th {\n",
              "        text-align: right;\n",
              "    }\n",
              "</style>\n",
              "<table border=\"1\" class=\"dataframe\">\n",
              "  <thead>\n",
              "    <tr style=\"text-align: right;\">\n",
              "      <th></th>\n",
              "      <th>Nome do Item</th>\n",
              "      <th>Nome de categoria</th>\n",
              "      <th>Data de Resolução</th>\n",
              "      <th>Data de registro</th>\n",
              "      <th>Data de atribuição</th>\n",
              "    </tr>\n",
              "  </thead>\n",
              "  <tbody>\n",
              "    <tr>\n",
              "      <th>0</th>\n",
              "      <td>SERVIÇO DE SENHAS/AMBIENTE SEGURO</td>\n",
              "      <td>ERRO/FALHA</td>\n",
              "      <td>01/06/20 10:49</td>\n",
              "      <td>06/03/20</td>\n",
              "      <td>26/05/20 15:06</td>\n",
              "    </tr>\n",
              "    <tr>\n",
              "      <th>1</th>\n",
              "      <td>SOLARE</td>\n",
              "      <td>ERRO/FALHA</td>\n",
              "      <td>05/05/20 11:16</td>\n",
              "      <td>11/03/20</td>\n",
              "      <td>04/05/20 13:56</td>\n",
              "    </tr>\n",
              "    <tr>\n",
              "      <th>2</th>\n",
              "      <td>SISCOEX</td>\n",
              "      <td>ERRO/FALHA</td>\n",
              "      <td>18/05/20 11:58</td>\n",
              "      <td>16/04/20</td>\n",
              "      <td>16/04/20 14:25</td>\n",
              "    </tr>\n",
              "    <tr>\n",
              "      <th>3</th>\n",
              "      <td>CADASTRO - AIX</td>\n",
              "      <td>INDISPONIBILIDADE</td>\n",
              "      <td>11/05/20 07:59</td>\n",
              "      <td>24/04/20</td>\n",
              "      <td>11/05/20 07:48</td>\n",
              "    </tr>\n",
              "    <tr>\n",
              "      <th>4</th>\n",
              "      <td>ITCD</td>\n",
              "      <td>ERRO/FALHA</td>\n",
              "      <td>06/05/20 11:26</td>\n",
              "      <td>06/05/20</td>\n",
              "      <td>06/05/20 11:19</td>\n",
              "    </tr>\n",
              "    <tr>\n",
              "      <th>...</th>\n",
              "      <td>...</td>\n",
              "      <td>...</td>\n",
              "      <td>...</td>\n",
              "      <td>...</td>\n",
              "      <td>...</td>\n",
              "    </tr>\n",
              "    <tr>\n",
              "      <th>532</th>\n",
              "      <td>CADASTRO - AIX</td>\n",
              "      <td>OUTRAS SOLICITAÇÕES</td>\n",
              "      <td>30/06/20 10:10</td>\n",
              "      <td>29/06/20</td>\n",
              "      <td>30/06/20 09:52</td>\n",
              "    </tr>\n",
              "    <tr>\n",
              "      <th>533</th>\n",
              "      <td>CADASTRO - AIX</td>\n",
              "      <td>OUTRAS SOLICITAÇÕES</td>\n",
              "      <td>29/06/20 17:55</td>\n",
              "      <td>29/06/20</td>\n",
              "      <td>29/06/20 17:43</td>\n",
              "    </tr>\n",
              "    <tr>\n",
              "      <th>534</th>\n",
              "      <td>CADASTRO - AIX</td>\n",
              "      <td>OUTRAS SOLICITAÇÕES</td>\n",
              "      <td>30/06/20 10:13</td>\n",
              "      <td>29/06/20</td>\n",
              "      <td>30/06/20 09:55</td>\n",
              "    </tr>\n",
              "    <tr>\n",
              "      <th>535</th>\n",
              "      <td>ITCD</td>\n",
              "      <td>OUTRAS SOLICITAÇÕES</td>\n",
              "      <td>30/06/20 14:57</td>\n",
              "      <td>30/06/20</td>\n",
              "      <td>30/06/20 14:55</td>\n",
              "    </tr>\n",
              "    <tr>\n",
              "      <th>536</th>\n",
              "      <td>USUÁRIO DE SISTEMA</td>\n",
              "      <td>SAPAT</td>\n",
              "      <td>30/06/20 16:16</td>\n",
              "      <td>30/06/20</td>\n",
              "      <td>30/06/20 15:41</td>\n",
              "    </tr>\n",
              "  </tbody>\n",
              "</table>\n",
              "<p>537 rows × 5 columns</p>\n",
              "</div>"
            ],
            "text/plain": [
              "                          Nome do Item  ... Data de atribuição\n",
              "0    SERVIÇO DE SENHAS/AMBIENTE SEGURO  ...     26/05/20 15:06\n",
              "1                               SOLARE  ...     04/05/20 13:56\n",
              "2                              SISCOEX  ...     16/04/20 14:25\n",
              "3                       CADASTRO - AIX  ...     11/05/20 07:48\n",
              "4                                 ITCD  ...     06/05/20 11:19\n",
              "..                                 ...  ...                ...\n",
              "532                     CADASTRO - AIX  ...     30/06/20 09:52\n",
              "533                     CADASTRO - AIX  ...     29/06/20 17:43\n",
              "534                     CADASTRO - AIX  ...     30/06/20 09:55\n",
              "535                               ITCD  ...     30/06/20 14:55\n",
              "536                 USUÁRIO DE SISTEMA  ...     30/06/20 15:41\n",
              "\n",
              "[537 rows x 5 columns]"
            ]
          },
          "metadata": {
            "tags": []
          },
          "execution_count": 38
        }
      ]
    },
    {
      "cell_type": "code",
      "metadata": {
        "id": "LiERb6GExwTk",
        "colab_type": "code",
        "colab": {
          "base_uri": "https://localhost:8080/",
          "height": 230
        },
        "outputId": "9473e8da-ad04-45f5-880d-a5e5b714d93a"
      },
      "source": [
        "data_resolucao = pd.to_datetime(assysts_calculo['Data de Resolução'],format=\"%d/%m/%y %H:%M\")\n",
        "data_resolucao"
      ],
      "execution_count": null,
      "outputs": [
        {
          "output_type": "execute_result",
          "data": {
            "text/plain": [
              "0     2020-06-01 10:49:00\n",
              "1     2020-05-05 11:16:00\n",
              "2     2020-05-18 11:58:00\n",
              "3     2020-05-11 07:59:00\n",
              "4     2020-05-06 11:26:00\n",
              "              ...        \n",
              "532   2020-06-30 10:10:00\n",
              "533   2020-06-29 17:55:00\n",
              "534   2020-06-30 10:13:00\n",
              "535   2020-06-30 14:57:00\n",
              "536   2020-06-30 16:16:00\n",
              "Name: Data de Resolução, Length: 537, dtype: datetime64[ns]"
            ]
          },
          "metadata": {
            "tags": []
          },
          "execution_count": 39
        }
      ]
    },
    {
      "cell_type": "code",
      "metadata": {
        "id": "dJ4x96tcCDt9",
        "colab_type": "code",
        "colab": {
          "base_uri": "https://localhost:8080/",
          "height": 230
        },
        "outputId": "93230b48-3e03-4f69-fef9-2c1cbdcc8a16"
      },
      "source": [
        "data_registro  = pd.to_datetime(assysts['Data de registro'], format=\"%d/%m/%y\" )\n",
        "data_registro \n"
      ],
      "execution_count": null,
      "outputs": [
        {
          "output_type": "execute_result",
          "data": {
            "text/plain": [
              "0     2020-03-06\n",
              "1     2020-03-11\n",
              "2     2020-04-16\n",
              "3     2020-04-24\n",
              "4     2020-05-06\n",
              "         ...    \n",
              "532   2020-06-29\n",
              "533   2020-06-29\n",
              "534   2020-06-29\n",
              "535   2020-06-30\n",
              "536   2020-06-30\n",
              "Name: Data de registro, Length: 537, dtype: datetime64[ns]"
            ]
          },
          "metadata": {
            "tags": []
          },
          "execution_count": 40
        }
      ]
    },
    {
      "cell_type": "code",
      "metadata": {
        "id": "BS9Q4onmTMmA",
        "colab_type": "code",
        "colab": {
          "base_uri": "https://localhost:8080/",
          "height": 230
        },
        "outputId": "86c1e58d-812b-48b9-df9c-6dd4b640b88a"
      },
      "source": [
        "data_atribuicao = pd.to_datetime(assysts_calculo['Data de atribuição'],format=\"%d/%m/%y %H:%M\")\n",
        "data_atribuicao"
      ],
      "execution_count": null,
      "outputs": [
        {
          "output_type": "execute_result",
          "data": {
            "text/plain": [
              "0     2020-05-26 15:06:00\n",
              "1     2020-05-04 13:56:00\n",
              "2     2020-04-16 14:25:00\n",
              "3     2020-05-11 07:48:00\n",
              "4     2020-05-06 11:19:00\n",
              "              ...        \n",
              "532   2020-06-30 09:52:00\n",
              "533   2020-06-29 17:43:00\n",
              "534   2020-06-30 09:55:00\n",
              "535   2020-06-30 14:55:00\n",
              "536   2020-06-30 15:41:00\n",
              "Name: Data de atribuição, Length: 537, dtype: datetime64[ns]"
            ]
          },
          "metadata": {
            "tags": []
          },
          "execution_count": 41
        }
      ]
    },
    {
      "cell_type": "code",
      "metadata": {
        "id": "tAGN_skNFPNX",
        "colab_type": "code",
        "colab": {
          "base_uri": "https://localhost:8080/",
          "height": 406
        },
        "outputId": "8a6f1884-1ed6-48c9-c84a-dfc0a96f067f"
      },
      "source": [
        "assysts_calculo['Tempo Gasto'] = (data_resolucao - data_atribuicao).dt.days\n",
        "assysts_calculo['Tempo de vida'] = (data_resolucao - data_registro).dt.days\n",
        "assysts_calculo"
      ],
      "execution_count": null,
      "outputs": [
        {
          "output_type": "execute_result",
          "data": {
            "text/html": [
              "<div>\n",
              "<style scoped>\n",
              "    .dataframe tbody tr th:only-of-type {\n",
              "        vertical-align: middle;\n",
              "    }\n",
              "\n",
              "    .dataframe tbody tr th {\n",
              "        vertical-align: top;\n",
              "    }\n",
              "\n",
              "    .dataframe thead th {\n",
              "        text-align: right;\n",
              "    }\n",
              "</style>\n",
              "<table border=\"1\" class=\"dataframe\">\n",
              "  <thead>\n",
              "    <tr style=\"text-align: right;\">\n",
              "      <th></th>\n",
              "      <th>Nome do Item</th>\n",
              "      <th>Nome de categoria</th>\n",
              "      <th>Data de Resolução</th>\n",
              "      <th>Data de registro</th>\n",
              "      <th>Data de atribuição</th>\n",
              "      <th>Tempo Gasto</th>\n",
              "      <th>Tempo de vida</th>\n",
              "    </tr>\n",
              "  </thead>\n",
              "  <tbody>\n",
              "    <tr>\n",
              "      <th>0</th>\n",
              "      <td>SERVIÇO DE SENHAS/AMBIENTE SEGURO</td>\n",
              "      <td>ERRO/FALHA</td>\n",
              "      <td>01/06/20 10:49</td>\n",
              "      <td>06/03/20</td>\n",
              "      <td>26/05/20 15:06</td>\n",
              "      <td>5</td>\n",
              "      <td>87</td>\n",
              "    </tr>\n",
              "    <tr>\n",
              "      <th>1</th>\n",
              "      <td>SOLARE</td>\n",
              "      <td>ERRO/FALHA</td>\n",
              "      <td>05/05/20 11:16</td>\n",
              "      <td>11/03/20</td>\n",
              "      <td>04/05/20 13:56</td>\n",
              "      <td>0</td>\n",
              "      <td>55</td>\n",
              "    </tr>\n",
              "    <tr>\n",
              "      <th>2</th>\n",
              "      <td>SISCOEX</td>\n",
              "      <td>ERRO/FALHA</td>\n",
              "      <td>18/05/20 11:58</td>\n",
              "      <td>16/04/20</td>\n",
              "      <td>16/04/20 14:25</td>\n",
              "      <td>31</td>\n",
              "      <td>32</td>\n",
              "    </tr>\n",
              "    <tr>\n",
              "      <th>3</th>\n",
              "      <td>CADASTRO - AIX</td>\n",
              "      <td>INDISPONIBILIDADE</td>\n",
              "      <td>11/05/20 07:59</td>\n",
              "      <td>24/04/20</td>\n",
              "      <td>11/05/20 07:48</td>\n",
              "      <td>0</td>\n",
              "      <td>17</td>\n",
              "    </tr>\n",
              "    <tr>\n",
              "      <th>4</th>\n",
              "      <td>ITCD</td>\n",
              "      <td>ERRO/FALHA</td>\n",
              "      <td>06/05/20 11:26</td>\n",
              "      <td>06/05/20</td>\n",
              "      <td>06/05/20 11:19</td>\n",
              "      <td>0</td>\n",
              "      <td>0</td>\n",
              "    </tr>\n",
              "    <tr>\n",
              "      <th>...</th>\n",
              "      <td>...</td>\n",
              "      <td>...</td>\n",
              "      <td>...</td>\n",
              "      <td>...</td>\n",
              "      <td>...</td>\n",
              "      <td>...</td>\n",
              "      <td>...</td>\n",
              "    </tr>\n",
              "    <tr>\n",
              "      <th>532</th>\n",
              "      <td>CADASTRO - AIX</td>\n",
              "      <td>OUTRAS SOLICITAÇÕES</td>\n",
              "      <td>30/06/20 10:10</td>\n",
              "      <td>29/06/20</td>\n",
              "      <td>30/06/20 09:52</td>\n",
              "      <td>0</td>\n",
              "      <td>1</td>\n",
              "    </tr>\n",
              "    <tr>\n",
              "      <th>533</th>\n",
              "      <td>CADASTRO - AIX</td>\n",
              "      <td>OUTRAS SOLICITAÇÕES</td>\n",
              "      <td>29/06/20 17:55</td>\n",
              "      <td>29/06/20</td>\n",
              "      <td>29/06/20 17:43</td>\n",
              "      <td>0</td>\n",
              "      <td>0</td>\n",
              "    </tr>\n",
              "    <tr>\n",
              "      <th>534</th>\n",
              "      <td>CADASTRO - AIX</td>\n",
              "      <td>OUTRAS SOLICITAÇÕES</td>\n",
              "      <td>30/06/20 10:13</td>\n",
              "      <td>29/06/20</td>\n",
              "      <td>30/06/20 09:55</td>\n",
              "      <td>0</td>\n",
              "      <td>1</td>\n",
              "    </tr>\n",
              "    <tr>\n",
              "      <th>535</th>\n",
              "      <td>ITCD</td>\n",
              "      <td>OUTRAS SOLICITAÇÕES</td>\n",
              "      <td>30/06/20 14:57</td>\n",
              "      <td>30/06/20</td>\n",
              "      <td>30/06/20 14:55</td>\n",
              "      <td>0</td>\n",
              "      <td>0</td>\n",
              "    </tr>\n",
              "    <tr>\n",
              "      <th>536</th>\n",
              "      <td>USUÁRIO DE SISTEMA</td>\n",
              "      <td>SAPAT</td>\n",
              "      <td>30/06/20 16:16</td>\n",
              "      <td>30/06/20</td>\n",
              "      <td>30/06/20 15:41</td>\n",
              "      <td>0</td>\n",
              "      <td>0</td>\n",
              "    </tr>\n",
              "  </tbody>\n",
              "</table>\n",
              "<p>537 rows × 7 columns</p>\n",
              "</div>"
            ],
            "text/plain": [
              "                          Nome do Item  ... Tempo de vida\n",
              "0    SERVIÇO DE SENHAS/AMBIENTE SEGURO  ...            87\n",
              "1                               SOLARE  ...            55\n",
              "2                              SISCOEX  ...            32\n",
              "3                       CADASTRO - AIX  ...            17\n",
              "4                                 ITCD  ...             0\n",
              "..                                 ...  ...           ...\n",
              "532                     CADASTRO - AIX  ...             1\n",
              "533                     CADASTRO - AIX  ...             0\n",
              "534                     CADASTRO - AIX  ...             1\n",
              "535                               ITCD  ...             0\n",
              "536                 USUÁRIO DE SISTEMA  ...             0\n",
              "\n",
              "[537 rows x 7 columns]"
            ]
          },
          "metadata": {
            "tags": []
          },
          "execution_count": 42
        }
      ]
    },
    {
      "cell_type": "code",
      "metadata": {
        "id": "Mwzx6kfO_0Ny",
        "colab_type": "code",
        "colab": {
          "base_uri": "https://localhost:8080/",
          "height": 406
        },
        "outputId": "afdf372f-5686-46fd-de61-65bacd72b37a"
      },
      "source": [
        "assysts_calculo.sort_values(by = 'Tempo Gasto', ascending=False)"
      ],
      "execution_count": null,
      "outputs": [
        {
          "output_type": "execute_result",
          "data": {
            "text/html": [
              "<div>\n",
              "<style scoped>\n",
              "    .dataframe tbody tr th:only-of-type {\n",
              "        vertical-align: middle;\n",
              "    }\n",
              "\n",
              "    .dataframe tbody tr th {\n",
              "        vertical-align: top;\n",
              "    }\n",
              "\n",
              "    .dataframe thead th {\n",
              "        text-align: right;\n",
              "    }\n",
              "</style>\n",
              "<table border=\"1\" class=\"dataframe\">\n",
              "  <thead>\n",
              "    <tr style=\"text-align: right;\">\n",
              "      <th></th>\n",
              "      <th>Nome do Item</th>\n",
              "      <th>Nome de categoria</th>\n",
              "      <th>Data de Resolução</th>\n",
              "      <th>Data de registro</th>\n",
              "      <th>Data de atribuição</th>\n",
              "      <th>Tempo Gasto</th>\n",
              "      <th>Tempo de vida</th>\n",
              "    </tr>\n",
              "  </thead>\n",
              "  <tbody>\n",
              "    <tr>\n",
              "      <th>386</th>\n",
              "      <td>DERHU</td>\n",
              "      <td>OUTRAS SOLICITAÇÕES</td>\n",
              "      <td>15/06/20 16:00</td>\n",
              "      <td>09/10/19</td>\n",
              "      <td>09/10/19 10:50</td>\n",
              "      <td>250</td>\n",
              "      <td>250</td>\n",
              "    </tr>\n",
              "    <tr>\n",
              "      <th>34</th>\n",
              "      <td>SISCOEX</td>\n",
              "      <td>MELHORIA</td>\n",
              "      <td>18/05/20 12:04</td>\n",
              "      <td>11/11/19</td>\n",
              "      <td>17/12/19 08:57</td>\n",
              "      <td>153</td>\n",
              "      <td>189</td>\n",
              "    </tr>\n",
              "    <tr>\n",
              "      <th>387</th>\n",
              "      <td>DERHU – FÉRIAS</td>\n",
              "      <td>OUTRAS SOLICITAÇÕES</td>\n",
              "      <td>12/06/20 19:18</td>\n",
              "      <td>22/01/20</td>\n",
              "      <td>22/01/20 10:20</td>\n",
              "      <td>142</td>\n",
              "      <td>142</td>\n",
              "    </tr>\n",
              "    <tr>\n",
              "      <th>385</th>\n",
              "      <td>INTEGRAÇÃO DE SISTEMAS</td>\n",
              "      <td>CRIAR INTEGRAÇÃO DE SISTEMAS</td>\n",
              "      <td>19/06/20 09:14</td>\n",
              "      <td>30/08/19</td>\n",
              "      <td>13/02/20 08:52</td>\n",
              "      <td>127</td>\n",
              "      <td>294</td>\n",
              "    </tr>\n",
              "    <tr>\n",
              "      <th>384</th>\n",
              "      <td>INTEGRAÇÃO DE SISTEMAS</td>\n",
              "      <td>CRIAR INTEGRAÇÃO DE SISTEMAS</td>\n",
              "      <td>19/06/20 09:15</td>\n",
              "      <td>14/08/19</td>\n",
              "      <td>13/02/20 08:50</td>\n",
              "      <td>127</td>\n",
              "      <td>310</td>\n",
              "    </tr>\n",
              "    <tr>\n",
              "      <th>...</th>\n",
              "      <td>...</td>\n",
              "      <td>...</td>\n",
              "      <td>...</td>\n",
              "      <td>...</td>\n",
              "      <td>...</td>\n",
              "      <td>...</td>\n",
              "      <td>...</td>\n",
              "    </tr>\n",
              "    <tr>\n",
              "      <th>216</th>\n",
              "      <td>CREDENCIA</td>\n",
              "      <td>OUTRAS SOLICITAÇÕES</td>\n",
              "      <td>03/04/20 17:33</td>\n",
              "      <td>01/04/20</td>\n",
              "      <td>03/04/20 14:19</td>\n",
              "      <td>0</td>\n",
              "      <td>2</td>\n",
              "    </tr>\n",
              "    <tr>\n",
              "      <th>536</th>\n",
              "      <td>USUÁRIO DE SISTEMA</td>\n",
              "      <td>SAPAT</td>\n",
              "      <td>30/06/20 16:16</td>\n",
              "      <td>30/06/20</td>\n",
              "      <td>30/06/20 15:41</td>\n",
              "      <td>0</td>\n",
              "      <td>0</td>\n",
              "    </tr>\n",
              "    <tr>\n",
              "      <th>62</th>\n",
              "      <td>CADASTRO – INTERNET</td>\n",
              "      <td>OUTRAS SOLICITAÇÕES</td>\n",
              "      <td>04/05/20 16:13</td>\n",
              "      <td>04/05/20</td>\n",
              "      <td>04/05/20 17:19</td>\n",
              "      <td>-1</td>\n",
              "      <td>0</td>\n",
              "    </tr>\n",
              "    <tr>\n",
              "      <th>259</th>\n",
              "      <td>RECEITA</td>\n",
              "      <td>OUTRAS SOLICITAÇÕES</td>\n",
              "      <td>14/04/20 10:18</td>\n",
              "      <td>13/04/20</td>\n",
              "      <td>14/04/20 10:27</td>\n",
              "      <td>-1</td>\n",
              "      <td>1</td>\n",
              "    </tr>\n",
              "    <tr>\n",
              "      <th>53</th>\n",
              "      <td>NFE - NOTA FISCAL ELETRÔNICA</td>\n",
              "      <td>OUTRAS SOLICITAÇÕES</td>\n",
              "      <td>04/05/20 10:55</td>\n",
              "      <td>20/04/20</td>\n",
              "      <td>15/05/20 15:27</td>\n",
              "      <td>-12</td>\n",
              "      <td>14</td>\n",
              "    </tr>\n",
              "  </tbody>\n",
              "</table>\n",
              "<p>537 rows × 7 columns</p>\n",
              "</div>"
            ],
            "text/plain": [
              "                     Nome do Item  ... Tempo de vida\n",
              "386                         DERHU  ...           250\n",
              "34                        SISCOEX  ...           189\n",
              "387                DERHU – FÉRIAS  ...           142\n",
              "385        INTEGRAÇÃO DE SISTEMAS  ...           294\n",
              "384        INTEGRAÇÃO DE SISTEMAS  ...           310\n",
              "..                            ...  ...           ...\n",
              "216                     CREDENCIA  ...             2\n",
              "536            USUÁRIO DE SISTEMA  ...             0\n",
              "62            CADASTRO – INTERNET  ...             0\n",
              "259                       RECEITA  ...             1\n",
              "53   NFE - NOTA FISCAL ELETRÔNICA  ...            14\n",
              "\n",
              "[537 rows x 7 columns]"
            ]
          },
          "metadata": {
            "tags": []
          },
          "execution_count": 43
        }
      ]
    },
    {
      "cell_type": "code",
      "metadata": {
        "id": "2Bq4GEf0KOfW",
        "colab_type": "code",
        "colab": {
          "base_uri": "https://localhost:8080/",
          "height": 185
        },
        "outputId": "b2630f73-6627-4226-ae80-996dac37fb45"
      },
      "source": [
        "referencia = 'SAPAT'\n",
        "assysts_calculo.loc[assysts_calculo['Nome do Item'] == referencia]"
      ],
      "execution_count": null,
      "outputs": [
        {
          "output_type": "error",
          "ename": "NameError",
          "evalue": "ignored",
          "traceback": [
            "\u001b[0;31m---------------------------------------------------------------------------\u001b[0m",
            "\u001b[0;31mNameError\u001b[0m                                 Traceback (most recent call last)",
            "\u001b[0;32m<ipython-input-1-4acc7bc31be4>\u001b[0m in \u001b[0;36m<module>\u001b[0;34m()\u001b[0m\n\u001b[1;32m      1\u001b[0m \u001b[0mreferencia\u001b[0m \u001b[0;34m=\u001b[0m \u001b[0;34m'SAPAT'\u001b[0m\u001b[0;34m\u001b[0m\u001b[0;34m\u001b[0m\u001b[0m\n\u001b[0;32m----> 2\u001b[0;31m \u001b[0massysts_calculo\u001b[0m\u001b[0;34m.\u001b[0m\u001b[0mloc\u001b[0m\u001b[0;34m[\u001b[0m\u001b[0massysts_calculo\u001b[0m\u001b[0;34m[\u001b[0m\u001b[0;34m'Nome do Item'\u001b[0m\u001b[0;34m]\u001b[0m \u001b[0;34m==\u001b[0m \u001b[0mreferencia\u001b[0m\u001b[0;34m]\u001b[0m\u001b[0;34m\u001b[0m\u001b[0;34m\u001b[0m\u001b[0m\n\u001b[0m",
            "\u001b[0;31mNameError\u001b[0m: name 'assysts_calculo' is not defined"
          ]
        }
      ]
    },
    {
      "cell_type": "code",
      "metadata": {
        "id": "aujam7KY0ll8",
        "colab_type": "code",
        "colab": {
          "base_uri": "https://localhost:8080/",
          "height": 247
        },
        "outputId": "d198df4a-06c4-474f-c780-2172a72544b4"
      },
      "source": [
        "assysts_calculo.groupby(['Nome do Item', 'Nome de categoria'])['Tempo Gasto'].mean()"
      ],
      "execution_count": null,
      "outputs": [
        {
          "output_type": "execute_result",
          "data": {
            "text/plain": [
              "Nome do Item                    Nome de categoria                         \n",
              "ADMINISTRAÇÃO E BANCO DE DADOS  USUÁRIO/ROLE/PERMISSÕES(PESSOAL/APLICAÇÃO)     1.000000\n",
              "ASCENSÃO FUNCIONAL              OUTRAS SOLICITAÇÕES                           73.500000\n",
              "BI - INTELIGÊNCIA DE NEGÓCIO    RELATÓRIOS                                     4.500000\n",
              "CADASTRO - AIX                  ERRO/FALHA                                     0.000000\n",
              "                                INDISPONIBILIDADE                              0.000000\n",
              "                                                                                ...    \n",
              "SUA NOTA TEM VALOR              MELHORIA                                      85.142857\n",
              "SUA NOTA VALE DINHEIRO          OUTRAS SOLICITAÇÕES                            5.500000\n",
              "USUÁRIO DE REDE                 ACESSO REMOTO VPN                             22.000000\n",
              "                                CRIAR INTEGRAÇÃO DE SISTEMAS                   0.000000\n",
              "USUÁRIO DE SISTEMA              SAPAT                                          2.333333\n",
              "Name: Tempo Gasto, Length: 88, dtype: float64"
            ]
          },
          "metadata": {
            "tags": []
          },
          "execution_count": 45
        }
      ]
    },
    {
      "cell_type": "code",
      "metadata": {
        "id": "vvfe7PVT1eXd",
        "colab_type": "code",
        "colab": {
          "base_uri": "https://localhost:8080/",
          "height": 406
        },
        "outputId": "f8161445-3fd9-49b8-d1b6-0463625d08ee"
      },
      "source": [
        "assysts_final = assysts_calculo.groupby(['Nome do Item', 'Nome de categoria']).agg(qtd=('Nome do Item', 'count'), media_gasto=('Tempo Gasto', 'mean'), media_vida=('Tempo de vida', 'mean')).reset_index()\n",
        "assysts_final"
      ],
      "execution_count": null,
      "outputs": [
        {
          "output_type": "execute_result",
          "data": {
            "text/html": [
              "<div>\n",
              "<style scoped>\n",
              "    .dataframe tbody tr th:only-of-type {\n",
              "        vertical-align: middle;\n",
              "    }\n",
              "\n",
              "    .dataframe tbody tr th {\n",
              "        vertical-align: top;\n",
              "    }\n",
              "\n",
              "    .dataframe thead th {\n",
              "        text-align: right;\n",
              "    }\n",
              "</style>\n",
              "<table border=\"1\" class=\"dataframe\">\n",
              "  <thead>\n",
              "    <tr style=\"text-align: right;\">\n",
              "      <th></th>\n",
              "      <th>Nome do Item</th>\n",
              "      <th>Nome de categoria</th>\n",
              "      <th>qtd</th>\n",
              "      <th>media_gasto</th>\n",
              "      <th>media_vida</th>\n",
              "    </tr>\n",
              "  </thead>\n",
              "  <tbody>\n",
              "    <tr>\n",
              "      <th>0</th>\n",
              "      <td>ADMINISTRAÇÃO E BANCO DE DADOS</td>\n",
              "      <td>USUÁRIO/ROLE/PERMISSÕES(PESSOAL/APLICAÇÃO)</td>\n",
              "      <td>1</td>\n",
              "      <td>1.000000</td>\n",
              "      <td>1.000000</td>\n",
              "    </tr>\n",
              "    <tr>\n",
              "      <th>1</th>\n",
              "      <td>ASCENSÃO FUNCIONAL</td>\n",
              "      <td>OUTRAS SOLICITAÇÕES</td>\n",
              "      <td>2</td>\n",
              "      <td>73.500000</td>\n",
              "      <td>75.000000</td>\n",
              "    </tr>\n",
              "    <tr>\n",
              "      <th>2</th>\n",
              "      <td>BI - INTELIGÊNCIA DE NEGÓCIO</td>\n",
              "      <td>RELATÓRIOS</td>\n",
              "      <td>24</td>\n",
              "      <td>4.500000</td>\n",
              "      <td>8.333333</td>\n",
              "    </tr>\n",
              "    <tr>\n",
              "      <th>3</th>\n",
              "      <td>CADASTRO - AIX</td>\n",
              "      <td>ERRO/FALHA</td>\n",
              "      <td>11</td>\n",
              "      <td>0.000000</td>\n",
              "      <td>0.272727</td>\n",
              "    </tr>\n",
              "    <tr>\n",
              "      <th>4</th>\n",
              "      <td>CADASTRO - AIX</td>\n",
              "      <td>INDISPONIBILIDADE</td>\n",
              "      <td>1</td>\n",
              "      <td>0.000000</td>\n",
              "      <td>17.000000</td>\n",
              "    </tr>\n",
              "    <tr>\n",
              "      <th>...</th>\n",
              "      <td>...</td>\n",
              "      <td>...</td>\n",
              "      <td>...</td>\n",
              "      <td>...</td>\n",
              "      <td>...</td>\n",
              "    </tr>\n",
              "    <tr>\n",
              "      <th>83</th>\n",
              "      <td>SUA NOTA TEM VALOR</td>\n",
              "      <td>MELHORIA</td>\n",
              "      <td>7</td>\n",
              "      <td>85.142857</td>\n",
              "      <td>85.285714</td>\n",
              "    </tr>\n",
              "    <tr>\n",
              "      <th>84</th>\n",
              "      <td>SUA NOTA VALE DINHEIRO</td>\n",
              "      <td>OUTRAS SOLICITAÇÕES</td>\n",
              "      <td>2</td>\n",
              "      <td>5.500000</td>\n",
              "      <td>6.500000</td>\n",
              "    </tr>\n",
              "    <tr>\n",
              "      <th>85</th>\n",
              "      <td>USUÁRIO DE REDE</td>\n",
              "      <td>ACESSO REMOTO VPN</td>\n",
              "      <td>1</td>\n",
              "      <td>22.000000</td>\n",
              "      <td>23.000000</td>\n",
              "    </tr>\n",
              "    <tr>\n",
              "      <th>86</th>\n",
              "      <td>USUÁRIO DE REDE</td>\n",
              "      <td>CRIAR INTEGRAÇÃO DE SISTEMAS</td>\n",
              "      <td>1</td>\n",
              "      <td>0.000000</td>\n",
              "      <td>22.000000</td>\n",
              "    </tr>\n",
              "    <tr>\n",
              "      <th>87</th>\n",
              "      <td>USUÁRIO DE SISTEMA</td>\n",
              "      <td>SAPAT</td>\n",
              "      <td>3</td>\n",
              "      <td>2.333333</td>\n",
              "      <td>3.000000</td>\n",
              "    </tr>\n",
              "  </tbody>\n",
              "</table>\n",
              "<p>88 rows × 5 columns</p>\n",
              "</div>"
            ],
            "text/plain": [
              "                      Nome do Item  ... media_vida\n",
              "0   ADMINISTRAÇÃO E BANCO DE DADOS  ...   1.000000\n",
              "1               ASCENSÃO FUNCIONAL  ...  75.000000\n",
              "2     BI - INTELIGÊNCIA DE NEGÓCIO  ...   8.333333\n",
              "3                   CADASTRO - AIX  ...   0.272727\n",
              "4                   CADASTRO - AIX  ...  17.000000\n",
              "..                             ...  ...        ...\n",
              "83              SUA NOTA TEM VALOR  ...  85.285714\n",
              "84          SUA NOTA VALE DINHEIRO  ...   6.500000\n",
              "85                 USUÁRIO DE REDE  ...  23.000000\n",
              "86                 USUÁRIO DE REDE  ...  22.000000\n",
              "87              USUÁRIO DE SISTEMA  ...   3.000000\n",
              "\n",
              "[88 rows x 5 columns]"
            ]
          },
          "metadata": {
            "tags": []
          },
          "execution_count": 46
        }
      ]
    },
    {
      "cell_type": "code",
      "metadata": {
        "id": "p9WiZwKy2xLq",
        "colab_type": "code",
        "colab": {
          "base_uri": "https://localhost:8080/",
          "height": 316
        },
        "outputId": "0a05e693-ad8e-4947-f333-655cfa5ac8ef"
      },
      "source": [
        "assysts_final.sort_values(by = 'count', ascending=False)"
      ],
      "execution_count": null,
      "outputs": [
        {
          "output_type": "error",
          "ename": "KeyError",
          "evalue": "ignored",
          "traceback": [
            "\u001b[0;31m---------------------------------------------------------------------------\u001b[0m",
            "\u001b[0;31mKeyError\u001b[0m                                  Traceback (most recent call last)",
            "\u001b[0;32m<ipython-input-47-f187034d4594>\u001b[0m in \u001b[0;36m<module>\u001b[0;34m()\u001b[0m\n\u001b[0;32m----> 1\u001b[0;31m \u001b[0massysts_final\u001b[0m\u001b[0;34m.\u001b[0m\u001b[0msort_values\u001b[0m\u001b[0;34m(\u001b[0m\u001b[0mby\u001b[0m \u001b[0;34m=\u001b[0m \u001b[0;34m'count'\u001b[0m\u001b[0;34m,\u001b[0m \u001b[0mascending\u001b[0m\u001b[0;34m=\u001b[0m\u001b[0;32mFalse\u001b[0m\u001b[0;34m)\u001b[0m\u001b[0;34m\u001b[0m\u001b[0;34m\u001b[0m\u001b[0m\n\u001b[0m",
            "\u001b[0;32m/usr/local/lib/python3.6/dist-packages/pandas/core/frame.py\u001b[0m in \u001b[0;36msort_values\u001b[0;34m(self, by, axis, ascending, inplace, kind, na_position, ignore_index)\u001b[0m\n\u001b[1;32m   4925\u001b[0m \u001b[0;34m\u001b[0m\u001b[0m\n\u001b[1;32m   4926\u001b[0m             \u001b[0mby\u001b[0m \u001b[0;34m=\u001b[0m \u001b[0mby\u001b[0m\u001b[0;34m[\u001b[0m\u001b[0;36m0\u001b[0m\u001b[0;34m]\u001b[0m\u001b[0;34m\u001b[0m\u001b[0;34m\u001b[0m\u001b[0m\n\u001b[0;32m-> 4927\u001b[0;31m             \u001b[0mk\u001b[0m \u001b[0;34m=\u001b[0m \u001b[0mself\u001b[0m\u001b[0;34m.\u001b[0m\u001b[0m_get_label_or_level_values\u001b[0m\u001b[0;34m(\u001b[0m\u001b[0mby\u001b[0m\u001b[0;34m,\u001b[0m \u001b[0maxis\u001b[0m\u001b[0;34m=\u001b[0m\u001b[0maxis\u001b[0m\u001b[0;34m)\u001b[0m\u001b[0;34m\u001b[0m\u001b[0;34m\u001b[0m\u001b[0m\n\u001b[0m\u001b[1;32m   4928\u001b[0m \u001b[0;34m\u001b[0m\u001b[0m\n\u001b[1;32m   4929\u001b[0m             \u001b[0;32mif\u001b[0m \u001b[0misinstance\u001b[0m\u001b[0;34m(\u001b[0m\u001b[0mascending\u001b[0m\u001b[0;34m,\u001b[0m \u001b[0;34m(\u001b[0m\u001b[0mtuple\u001b[0m\u001b[0;34m,\u001b[0m \u001b[0mlist\u001b[0m\u001b[0;34m)\u001b[0m\u001b[0;34m)\u001b[0m\u001b[0;34m:\u001b[0m\u001b[0;34m\u001b[0m\u001b[0;34m\u001b[0m\u001b[0m\n",
            "\u001b[0;32m/usr/local/lib/python3.6/dist-packages/pandas/core/generic.py\u001b[0m in \u001b[0;36m_get_label_or_level_values\u001b[0;34m(self, key, axis)\u001b[0m\n\u001b[1;32m   1690\u001b[0m             \u001b[0mvalues\u001b[0m \u001b[0;34m=\u001b[0m \u001b[0mself\u001b[0m\u001b[0;34m.\u001b[0m\u001b[0maxes\u001b[0m\u001b[0;34m[\u001b[0m\u001b[0maxis\u001b[0m\u001b[0;34m]\u001b[0m\u001b[0;34m.\u001b[0m\u001b[0mget_level_values\u001b[0m\u001b[0;34m(\u001b[0m\u001b[0mkey\u001b[0m\u001b[0;34m)\u001b[0m\u001b[0;34m.\u001b[0m\u001b[0m_values\u001b[0m\u001b[0;34m\u001b[0m\u001b[0;34m\u001b[0m\u001b[0m\n\u001b[1;32m   1691\u001b[0m         \u001b[0;32melse\u001b[0m\u001b[0;34m:\u001b[0m\u001b[0;34m\u001b[0m\u001b[0;34m\u001b[0m\u001b[0m\n\u001b[0;32m-> 1692\u001b[0;31m             \u001b[0;32mraise\u001b[0m \u001b[0mKeyError\u001b[0m\u001b[0;34m(\u001b[0m\u001b[0mkey\u001b[0m\u001b[0;34m)\u001b[0m\u001b[0;34m\u001b[0m\u001b[0;34m\u001b[0m\u001b[0m\n\u001b[0m\u001b[1;32m   1693\u001b[0m \u001b[0;34m\u001b[0m\u001b[0m\n\u001b[1;32m   1694\u001b[0m         \u001b[0;31m# Check for duplicates\u001b[0m\u001b[0;34m\u001b[0m\u001b[0;34m\u001b[0m\u001b[0;34m\u001b[0m\u001b[0m\n",
            "\u001b[0;31mKeyError\u001b[0m: 'count'"
          ]
        }
      ]
    },
    {
      "cell_type": "code",
      "metadata": {
        "id": "NPBoDeHp03S5",
        "colab_type": "code",
        "colab": {}
      },
      "source": [
        "assysts_final.to_excel('assysts.xls')"
      ],
      "execution_count": null,
      "outputs": []
    },
    {
      "cell_type": "code",
      "metadata": {
        "id": "NvEfB4eu2v8R",
        "colab_type": "code",
        "colab": {}
      },
      "source": [
        ""
      ],
      "execution_count": null,
      "outputs": []
    }
  ]
}